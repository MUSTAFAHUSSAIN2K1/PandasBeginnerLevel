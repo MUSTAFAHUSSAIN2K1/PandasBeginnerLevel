{
  "nbformat": 4,
  "nbformat_minor": 0,
  "metadata": {
    "colab": {
      "provenance": []
    },
    "kernelspec": {
      "name": "python3",
      "display_name": "Python 3"
    },
    "language_info": {
      "name": "python"
    }
  },
  "cells": [
    {
      "cell_type": "code",
      "execution_count": 2,
      "metadata": {
        "id": "Jj6DZCqr7Jf6"
      },
      "outputs": [],
      "source": [
        "import pandas as pd"
      ]
    },
    {
      "cell_type": "code",
      "source": [
        "pd.Series([10,20,30,40])"
      ],
      "metadata": {
        "colab": {
          "base_uri": "https://localhost:8080/"
        },
        "id": "mC1ytGRyELeL",
        "outputId": "dcb01cc4-5289-489e-d318-a3a35ceec962"
      },
      "execution_count": 3,
      "outputs": [
        {
          "output_type": "execute_result",
          "data": {
            "text/plain": [
              "0    10\n",
              "1    20\n",
              "2    30\n",
              "3    40\n",
              "dtype: int64"
            ]
          },
          "metadata": {},
          "execution_count": 3
        }
      ]
    },
    {
      "cell_type": "code",
      "source": [
        "mySeries=pd.Series([60,70,80,90],[\"a\",\"b\",\"c\",\"d\"])"
      ],
      "metadata": {
        "id": "ygjoS6QNEikL"
      },
      "execution_count": 6,
      "outputs": []
    },
    {
      "cell_type": "code",
      "source": [
        "mySeries"
      ],
      "metadata": {
        "colab": {
          "base_uri": "https://localhost:8080/"
        },
        "id": "u8oMnkBtE1ST",
        "outputId": "03f67ead-ed84-41a4-a158-5d9d39a0d7f4"
      },
      "execution_count": 7,
      "outputs": [
        {
          "output_type": "execute_result",
          "data": {
            "text/plain": [
              "a    60\n",
              "b    70\n",
              "c    80\n",
              "d    90\n",
              "dtype: int64"
            ]
          },
          "metadata": {},
          "execution_count": 7
        }
      ]
    },
    {
      "cell_type": "code",
      "source": [
        "mySeries[\"c\"]"
      ],
      "metadata": {
        "colab": {
          "base_uri": "https://localhost:8080/"
        },
        "id": "1nZxENMtE3Jq",
        "outputId": "f655f27d-96c1-4031-ab82-14093388b951"
      },
      "execution_count": 8,
      "outputs": [
        {
          "output_type": "execute_result",
          "data": {
            "text/plain": [
              "80"
            ]
          },
          "metadata": {},
          "execution_count": 8
        }
      ]
    },
    {
      "cell_type": "code",
      "source": [
        "myDict={\"c\":2,\"d\":3,\"b\":3}"
      ],
      "metadata": {
        "id": "W3rI2gjmGk87"
      },
      "execution_count": 9,
      "outputs": []
    },
    {
      "cell_type": "code",
      "source": [
        "mySeries2=pd.Series(myDict)"
      ],
      "metadata": {
        "id": "hYFrBEBWG4-K"
      },
      "execution_count": 11,
      "outputs": []
    },
    {
      "cell_type": "code",
      "source": [
        "mySeries2"
      ],
      "metadata": {
        "colab": {
          "base_uri": "https://localhost:8080/"
        },
        "id": "dTvv9Oe1HGge",
        "outputId": "4504ca26-991f-4f08-a563-9fa41af2593e"
      },
      "execution_count": 13,
      "outputs": [
        {
          "output_type": "execute_result",
          "data": {
            "text/plain": [
              "c    2\n",
              "d    3\n",
              "b    3\n",
              "dtype: int64"
            ]
          },
          "metadata": {},
          "execution_count": 13
        }
      ]
    },
    {
      "cell_type": "code",
      "source": [
        "mySeries"
      ],
      "metadata": {
        "colab": {
          "base_uri": "https://localhost:8080/"
        },
        "id": "3qj2177nHYet",
        "outputId": "c203fbc6-de28-4d3a-a794-bedca3bc0ba2"
      },
      "execution_count": 15,
      "outputs": [
        {
          "output_type": "execute_result",
          "data": {
            "text/plain": [
              "a    60\n",
              "b    70\n",
              "c    80\n",
              "d    90\n",
              "dtype: int64"
            ]
          },
          "metadata": {},
          "execution_count": 15
        }
      ]
    },
    {
      "cell_type": "code",
      "source": [
        "mySeries+mySeries2"
      ],
      "metadata": {
        "colab": {
          "base_uri": "https://localhost:8080/"
        },
        "id": "QFKLR-ovHRGz",
        "outputId": "9398a780-53cb-4a73-ee99-a5e41af099a4"
      },
      "execution_count": 14,
      "outputs": [
        {
          "output_type": "execute_result",
          "data": {
            "text/plain": [
              "a     NaN\n",
              "b    73.0\n",
              "c    82.0\n",
              "d    93.0\n",
              "dtype: float64"
            ]
          },
          "metadata": {},
          "execution_count": 14
        }
      ]
    },
    {
      "cell_type": "markdown",
      "source": [
        "mySeries+mySeries2==add values of corresponding indexes"
      ],
      "metadata": {
        "id": "f8c2jNllHd4B"
      }
    }
  ]
}